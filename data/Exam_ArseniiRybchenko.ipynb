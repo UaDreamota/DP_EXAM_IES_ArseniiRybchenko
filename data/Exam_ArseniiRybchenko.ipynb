{
 "cells": [
  {
   "metadata": {
    "ExecuteTime": {
     "end_time": "2025-03-31T16:47:20.762727Z",
     "start_time": "2025-03-31T16:47:20.581491Z"
    }
   },
   "cell_type": "code",
   "source": [
    "import pandas as pd\n",
    "import numpy as np\n",
    "import matplotlib.pyplot as plt\n",
    "import seaborn as sns\n",
    "import os\n",
    "import requests\n",
    "from os import listdir\n",
    "import io\n"
   ],
   "id": "cb7faa99714f9ace",
   "outputs": [],
   "execution_count": 3
  },
  {
   "metadata": {
    "ExecuteTime": {
     "end_time": "2025-03-31T16:47:21.718685Z",
     "start_time": "2025-03-31T16:47:21.631250Z"
    }
   },
   "cell_type": "code",
   "source": [
    "aal = pd.read_csv('/Users/anna/Desktop/MainDirectory/gitrepositories/DataP_EXAM/data/AAL.csv')\n",
    "googl = pd.read_csv('/Users/anna/Desktop/MainDirectory/gitrepositories/DataP_EXAM/data/GOOGL.csv')\n",
    "hca = pd.read_csv('/Users/anna/Desktop/MainDirectory/gitrepositories/DataP_EXAM/data/HCA.csv')\n",
    "luv = pd.read_csv('/Users/anna/Desktop/MainDirectory/gitrepositories/DataP_EXAM/data/LUV.csv')\n",
    "mmm = pd.read_csv('/Users/anna/Desktop/MainDirectory/gitrepositories/DataP_EXAM/data/MMM.csv')"
   ],
   "id": "bb2105736d297cd0",
   "outputs": [],
   "execution_count": 4
  },
  {
   "metadata": {
    "ExecuteTime": {
     "end_time": "2025-03-31T16:53:14.901250Z",
     "start_time": "2025-03-31T16:53:14.713767Z"
    }
   },
   "cell_type": "code",
   "source": [
    "all_firms = pd.DataFrame()\n",
    "files = [file for file in listdir('.') if file.endswith('.csv')]\n",
    "\n",
    "for file in files:\n",
    "    df = pd.read_csv(file)\n",
    "    firm_name = file\n",
    "    df['firm_name'] = firm_name.strip('.csv')\n",
    "    all_firms = pd.concat([all_firms, df])\n",
    "\n",
    "#ls_firms = ['all', 'googl', 'hca', 'luv', 'mmm']\n",
    "\n",
    "all_firms.sample(200)\n",
    "\n",
    "#This should create a single file with a new column that corresponds to the\n"
   ],
   "id": "299d0841e4ea0289",
   "outputs": [
    {
     "data": {
      "text/plain": [
       "            Date     Open     High      Low    Close    Volume  Dividends  \\\n",
       "1155  2021-08-05  142.886  143.296  141.979  142.346   1883939        0.0   \n",
       "749   2019-12-24   67.344   67.434   67.042   67.055  13468000        0.0   \n",
       "857   2020-06-01  103.076  106.549  102.797  104.996   1339100        0.0   \n",
       "1439  2022-09-21   87.999   88.903   86.470   86.477   4468017        0.0   \n",
       "1025  2021-01-29   91.474   92.149   89.856   91.142  44530000        0.0   \n",
       "...          ...      ...      ...      ...      ...       ...        ...   \n",
       "202   2017-10-20   75.222   76.151   75.034   76.066   3793200        0.0   \n",
       "17    2017-01-27   49.839   49.931   48.272   48.567   7687000        0.0   \n",
       "990   2020-12-08   90.203   90.574   89.343   90.343  19936000        0.0   \n",
       "828   2020-04-20   11.150   11.350   10.720   11.060  58984900        0.0   \n",
       "1159  2021-08-11  136.843  137.342  135.935  135.942  15352000        0.0   \n",
       "\n",
       "      Stock Splits firm_name  \n",
       "1155           0.0       MMM  \n",
       "749            0.0     GOOGL  \n",
       "857            0.0       HCA  \n",
       "1439           0.0       MMM  \n",
       "1025           0.0     GOOGL  \n",
       "...            ...       ...  \n",
       "202            0.0       HCA  \n",
       "17             0.0       LUV  \n",
       "990            0.0     GOOGL  \n",
       "828            0.0       AAL  \n",
       "1159           0.0     GOOGL  \n",
       "\n",
       "[200 rows x 9 columns]"
      ],
      "text/html": [
       "<div>\n",
       "<style scoped>\n",
       "    .dataframe tbody tr th:only-of-type {\n",
       "        vertical-align: middle;\n",
       "    }\n",
       "\n",
       "    .dataframe tbody tr th {\n",
       "        vertical-align: top;\n",
       "    }\n",
       "\n",
       "    .dataframe thead th {\n",
       "        text-align: right;\n",
       "    }\n",
       "</style>\n",
       "<table border=\"1\" class=\"dataframe\">\n",
       "  <thead>\n",
       "    <tr style=\"text-align: right;\">\n",
       "      <th></th>\n",
       "      <th>Date</th>\n",
       "      <th>Open</th>\n",
       "      <th>High</th>\n",
       "      <th>Low</th>\n",
       "      <th>Close</th>\n",
       "      <th>Volume</th>\n",
       "      <th>Dividends</th>\n",
       "      <th>Stock Splits</th>\n",
       "      <th>firm_name</th>\n",
       "    </tr>\n",
       "  </thead>\n",
       "  <tbody>\n",
       "    <tr>\n",
       "      <th>1155</th>\n",
       "      <td>2021-08-05</td>\n",
       "      <td>142.886</td>\n",
       "      <td>143.296</td>\n",
       "      <td>141.979</td>\n",
       "      <td>142.346</td>\n",
       "      <td>1883939</td>\n",
       "      <td>0.0</td>\n",
       "      <td>0.0</td>\n",
       "      <td>MMM</td>\n",
       "    </tr>\n",
       "    <tr>\n",
       "      <th>749</th>\n",
       "      <td>2019-12-24</td>\n",
       "      <td>67.344</td>\n",
       "      <td>67.434</td>\n",
       "      <td>67.042</td>\n",
       "      <td>67.055</td>\n",
       "      <td>13468000</td>\n",
       "      <td>0.0</td>\n",
       "      <td>0.0</td>\n",
       "      <td>GOOGL</td>\n",
       "    </tr>\n",
       "    <tr>\n",
       "      <th>857</th>\n",
       "      <td>2020-06-01</td>\n",
       "      <td>103.076</td>\n",
       "      <td>106.549</td>\n",
       "      <td>102.797</td>\n",
       "      <td>104.996</td>\n",
       "      <td>1339100</td>\n",
       "      <td>0.0</td>\n",
       "      <td>0.0</td>\n",
       "      <td>HCA</td>\n",
       "    </tr>\n",
       "    <tr>\n",
       "      <th>1439</th>\n",
       "      <td>2022-09-21</td>\n",
       "      <td>87.999</td>\n",
       "      <td>88.903</td>\n",
       "      <td>86.470</td>\n",
       "      <td>86.477</td>\n",
       "      <td>4468017</td>\n",
       "      <td>0.0</td>\n",
       "      <td>0.0</td>\n",
       "      <td>MMM</td>\n",
       "    </tr>\n",
       "    <tr>\n",
       "      <th>1025</th>\n",
       "      <td>2021-01-29</td>\n",
       "      <td>91.474</td>\n",
       "      <td>92.149</td>\n",
       "      <td>89.856</td>\n",
       "      <td>91.142</td>\n",
       "      <td>44530000</td>\n",
       "      <td>0.0</td>\n",
       "      <td>0.0</td>\n",
       "      <td>GOOGL</td>\n",
       "    </tr>\n",
       "    <tr>\n",
       "      <th>...</th>\n",
       "      <td>...</td>\n",
       "      <td>...</td>\n",
       "      <td>...</td>\n",
       "      <td>...</td>\n",
       "      <td>...</td>\n",
       "      <td>...</td>\n",
       "      <td>...</td>\n",
       "      <td>...</td>\n",
       "      <td>...</td>\n",
       "    </tr>\n",
       "    <tr>\n",
       "      <th>202</th>\n",
       "      <td>2017-10-20</td>\n",
       "      <td>75.222</td>\n",
       "      <td>76.151</td>\n",
       "      <td>75.034</td>\n",
       "      <td>76.066</td>\n",
       "      <td>3793200</td>\n",
       "      <td>0.0</td>\n",
       "      <td>0.0</td>\n",
       "      <td>HCA</td>\n",
       "    </tr>\n",
       "    <tr>\n",
       "      <th>17</th>\n",
       "      <td>2017-01-27</td>\n",
       "      <td>49.839</td>\n",
       "      <td>49.931</td>\n",
       "      <td>48.272</td>\n",
       "      <td>48.567</td>\n",
       "      <td>7687000</td>\n",
       "      <td>0.0</td>\n",
       "      <td>0.0</td>\n",
       "      <td>LUV</td>\n",
       "    </tr>\n",
       "    <tr>\n",
       "      <th>990</th>\n",
       "      <td>2020-12-08</td>\n",
       "      <td>90.203</td>\n",
       "      <td>90.574</td>\n",
       "      <td>89.343</td>\n",
       "      <td>90.343</td>\n",
       "      <td>19936000</td>\n",
       "      <td>0.0</td>\n",
       "      <td>0.0</td>\n",
       "      <td>GOOGL</td>\n",
       "    </tr>\n",
       "    <tr>\n",
       "      <th>828</th>\n",
       "      <td>2020-04-20</td>\n",
       "      <td>11.150</td>\n",
       "      <td>11.350</td>\n",
       "      <td>10.720</td>\n",
       "      <td>11.060</td>\n",
       "      <td>58984900</td>\n",
       "      <td>0.0</td>\n",
       "      <td>0.0</td>\n",
       "      <td>AAL</td>\n",
       "    </tr>\n",
       "    <tr>\n",
       "      <th>1159</th>\n",
       "      <td>2021-08-11</td>\n",
       "      <td>136.843</td>\n",
       "      <td>137.342</td>\n",
       "      <td>135.935</td>\n",
       "      <td>135.942</td>\n",
       "      <td>15352000</td>\n",
       "      <td>0.0</td>\n",
       "      <td>0.0</td>\n",
       "      <td>GOOGL</td>\n",
       "    </tr>\n",
       "  </tbody>\n",
       "</table>\n",
       "<p>200 rows × 9 columns</p>\n",
       "</div>"
      ]
     },
     "execution_count": 14,
     "metadata": {},
     "output_type": "execute_result"
    }
   ],
   "execution_count": 14
  },
  {
   "metadata": {
    "ExecuteTime": {
     "end_time": "2025-03-31T16:47:28.359137Z",
     "start_time": "2025-03-31T16:47:28.285065Z"
    }
   },
   "cell_type": "code",
   "source": "files",
   "id": "f52bfe6e36b57ad3",
   "outputs": [
    {
     "data": {
      "text/plain": [
       "['HCA.csv', 'MMM.csv', 'GOOGL.csv', 'AAL.csv', 'LUV.csv']"
      ]
     },
     "execution_count": 6,
     "metadata": {},
     "output_type": "execute_result"
    }
   ],
   "execution_count": 6
  },
  {
   "metadata": {
    "ExecuteTime": {
     "end_time": "2025-03-31T16:49:18.755787Z",
     "start_time": "2025-03-31T16:49:18.726333Z"
    }
   },
   "cell_type": "code",
   "source": "all_firms.sample(5)",
   "id": "41eb38ab733aedc6",
   "outputs": [
    {
     "data": {
      "text/plain": [
       "            Date     Open     High      Low    Close   Volume  Dividends  \\\n",
       "410   2018-08-20  124.341  125.106  123.840  124.218  1112700        0.0   \n",
       "411   2018-08-21  124.199  124.927  123.112  123.415  2208900        0.0   \n",
       "729   2019-11-25   28.694   29.073   28.515   28.883  5171200        0.0   \n",
       "1122  2021-06-18  197.099  198.343  194.719  195.632  2576000        0.0   \n",
       "690   2019-10-01   26.893   27.469   26.407   26.615  6547000        0.0   \n",
       "\n",
       "      Stock Splits firm_name  \n",
       "410            0.0       HCA  \n",
       "411            0.0       HCA  \n",
       "729            0.0       AAL  \n",
       "1122           0.0       HCA  \n",
       "690            0.0       AAL  "
      ],
      "text/html": [
       "<div>\n",
       "<style scoped>\n",
       "    .dataframe tbody tr th:only-of-type {\n",
       "        vertical-align: middle;\n",
       "    }\n",
       "\n",
       "    .dataframe tbody tr th {\n",
       "        vertical-align: top;\n",
       "    }\n",
       "\n",
       "    .dataframe thead th {\n",
       "        text-align: right;\n",
       "    }\n",
       "</style>\n",
       "<table border=\"1\" class=\"dataframe\">\n",
       "  <thead>\n",
       "    <tr style=\"text-align: right;\">\n",
       "      <th></th>\n",
       "      <th>Date</th>\n",
       "      <th>Open</th>\n",
       "      <th>High</th>\n",
       "      <th>Low</th>\n",
       "      <th>Close</th>\n",
       "      <th>Volume</th>\n",
       "      <th>Dividends</th>\n",
       "      <th>Stock Splits</th>\n",
       "      <th>firm_name</th>\n",
       "    </tr>\n",
       "  </thead>\n",
       "  <tbody>\n",
       "    <tr>\n",
       "      <th>410</th>\n",
       "      <td>2018-08-20</td>\n",
       "      <td>124.341</td>\n",
       "      <td>125.106</td>\n",
       "      <td>123.840</td>\n",
       "      <td>124.218</td>\n",
       "      <td>1112700</td>\n",
       "      <td>0.0</td>\n",
       "      <td>0.0</td>\n",
       "      <td>HCA</td>\n",
       "    </tr>\n",
       "    <tr>\n",
       "      <th>411</th>\n",
       "      <td>2018-08-21</td>\n",
       "      <td>124.199</td>\n",
       "      <td>124.927</td>\n",
       "      <td>123.112</td>\n",
       "      <td>123.415</td>\n",
       "      <td>2208900</td>\n",
       "      <td>0.0</td>\n",
       "      <td>0.0</td>\n",
       "      <td>HCA</td>\n",
       "    </tr>\n",
       "    <tr>\n",
       "      <th>729</th>\n",
       "      <td>2019-11-25</td>\n",
       "      <td>28.694</td>\n",
       "      <td>29.073</td>\n",
       "      <td>28.515</td>\n",
       "      <td>28.883</td>\n",
       "      <td>5171200</td>\n",
       "      <td>0.0</td>\n",
       "      <td>0.0</td>\n",
       "      <td>AAL</td>\n",
       "    </tr>\n",
       "    <tr>\n",
       "      <th>1122</th>\n",
       "      <td>2021-06-18</td>\n",
       "      <td>197.099</td>\n",
       "      <td>198.343</td>\n",
       "      <td>194.719</td>\n",
       "      <td>195.632</td>\n",
       "      <td>2576000</td>\n",
       "      <td>0.0</td>\n",
       "      <td>0.0</td>\n",
       "      <td>HCA</td>\n",
       "    </tr>\n",
       "    <tr>\n",
       "      <th>690</th>\n",
       "      <td>2019-10-01</td>\n",
       "      <td>26.893</td>\n",
       "      <td>27.469</td>\n",
       "      <td>26.407</td>\n",
       "      <td>26.615</td>\n",
       "      <td>6547000</td>\n",
       "      <td>0.0</td>\n",
       "      <td>0.0</td>\n",
       "      <td>AAL</td>\n",
       "    </tr>\n",
       "  </tbody>\n",
       "</table>\n",
       "</div>"
      ]
     },
     "execution_count": 12,
     "metadata": {},
     "output_type": "execute_result"
    }
   ],
   "execution_count": 12
  },
  {
   "metadata": {},
   "cell_type": "markdown",
   "source": "# Part 1\n",
   "id": "e503787468e53200"
  },
  {
   "metadata": {
    "ExecuteTime": {
     "end_time": "2025-03-31T16:59:02.968987Z",
     "start_time": "2025-03-31T16:59:02.956927Z"
    }
   },
   "cell_type": "code",
   "source": [
    "#Question 1 - Is there a company that has no difference between the High and Low columns? What does it mean for the stock's trading behavior on such days?\n",
    "\n",
    "all_firms['Difference'] = all_firms['High'] == all_firms['Low']\n",
    "all_firms.head()\n",
    "\n",
    "ls_firms = []\n",
    "\n",
    "firms_differ = all_firms.loc[all_firms['Difference'] == True, 'firm_name'].tolist()"
   ],
   "id": "afdc42dcba66f6f5",
   "outputs": [],
   "execution_count": 37
  },
  {
   "metadata": {
    "ExecuteTime": {
     "end_time": "2025-03-31T16:59:03.920508Z",
     "start_time": "2025-03-31T16:59:03.916485Z"
    }
   },
   "cell_type": "code",
   "source": [
    "unqiue_differ = list(set(firms_differ))\n",
    "for firm in unqiue_differ:\n",
    "    print(f'{firm} do not have difference between high and low')\n",
    "\n",
    "print(unqiue_differ)\n",
    "\n",
    "# There are not firms that do not have difference between high and low"
   ],
   "id": "ea11722b89bf37df",
   "outputs": [
    {
     "name": "stdout",
     "output_type": "stream",
     "text": [
      "[]\n"
     ]
    }
   ],
   "execution_count": 38
  },
  {
   "metadata": {},
   "cell_type": "code",
   "outputs": [],
   "execution_count": null,
   "source": "#Questions 2 - (1pt task) \"What is the highest and lowest price (High) each company recorded?\"\n",
   "id": "89f1d3ca1737ddb6"
  },
  {
   "metadata": {
    "ExecuteTime": {
     "end_time": "2025-03-31T17:03:58.544589Z",
     "start_time": "2025-03-31T17:03:58.535153Z"
    }
   },
   "cell_type": "code",
   "source": "ls_firms = ['AAL', 'GOOGL', 'HCA', 'LUV', 'MMM']",
   "id": "85e8cb31618583ab",
   "outputs": [],
   "execution_count": 44
  },
  {
   "metadata": {
    "ExecuteTime": {
     "end_time": "2025-03-31T17:04:03.461601Z",
     "start_time": "2025-03-31T17:04:03.448724Z"
    }
   },
   "cell_type": "code",
   "source": [
    "for firm in ls_firms:\n",
    "    max_p = all_firms[all_firms['firm_name'] == firm]['High'].max()\n",
    "    min_p = all_firms[all_firms['firm_name'] == firm]['High'].min()\n",
    "    print(f'{firm} has the highest price recorded of {max_p} and the lowest price recorded of {min_p}')"
   ],
   "id": "a849abc34da635ad",
   "outputs": [
    {
     "name": "stdout",
     "output_type": "stream",
     "text": [
      "AAL has the highest price recorded of 57.583 and the lowest price recorded of 9.19\n",
      "GOOGL has the highest price recorded of 151.172 and the lowest price recorded of 40.472\n",
      "HCA has the highest price recorded of 272.703 and the lowest price recorded of 70.126\n",
      "LUV has the highest price recorded of 62.244 and the lowest price recorded of 23.711\n",
      "MMM has the highest price recorded of 167.233 and the lowest price recorded of 82.191\n"
     ]
    }
   ],
   "execution_count": 46
  },
  {
   "metadata": {
    "ExecuteTime": {
     "end_time": "2025-03-31T17:11:22.851703Z",
     "start_time": "2025-03-31T17:11:22.808977Z"
    }
   },
   "cell_type": "code",
   "source": [
    "#Questions 3 - (1pt task) Calculate logarithmic returns from Close. For each company report on its, min, max, mean, standard deviation, and skewness of the return distribution\n",
    "\n",
    "all_firms['log_return_close'] = all_firms.groupby('firm_name')['Close'].transform(lambda x: np.log(x/x.shift(1)))\n",
    "all_firms.head(10)\n",
    "\n",
    "for firm in ls_firms:\n",
    "    max_p = all_firms[all_firms['firm_name'] == firm]['log_return_close'].max()\n",
    "    min_p = all_firms[all_firms['firm_name'] == firm]['log_return_close'].min()\n",
    "    mean = all_firms[all_firms['firm_name'] == firm]['log_return_close'].mean()\n",
    "    sd =all_firms[all_firms['firm_name'] == firm]['log_return_close'].std()\n",
    "    print(f'{firm} has maximum log returns of Close of {max_p}, minumum log returns of Close of {min_p}, mean {mean} and standard deviation {sd}')"
   ],
   "id": "49fd109beab334df",
   "outputs": [
    {
     "name": "stdout",
     "output_type": "stream",
     "text": [
      "AAL has maximum log returns of Close of 0.3442777400754154, minumum log returns of Close of -0.2906818604308926, mean -0.000833475645635291 and standard deviation 0.03573578345942718\n",
      "GOOGL has maximum log returns of Close of 0.09184315840889078, minumum log returns of Close of -0.12370129670888536, mean 0.0005176255044912753 and standard deviation 0.01849935654025616\n",
      "HCA has maximum log returns of Close of 0.20342197961016176, minumum log returns of Close of -0.24619621388447457, mean 0.0008077444470560625 and standard deviation 0.02306804672538492\n",
      "LUV has maximum log returns of Close of 0.13490833414814063, minumum log returns of Close of -0.1637886825883708, mean -0.0002376756388929385 and standard deviation 0.023453403852766147\n",
      "MMM has maximum log returns of Close of 0.11865788808084467, minumum log returns of Close of -0.13862834176275443, mean -0.00013477461232596426 and standard deviation 0.016042875990854775\n"
     ]
    }
   ],
   "execution_count": 51
  },
  {
   "metadata": {
    "ExecuteTime": {
     "end_time": "2025-03-31T17:25:03.941728Z",
     "start_time": "2025-03-31T17:25:03.851113Z"
    }
   },
   "cell_type": "code",
   "source": [
    "#Question 4 -When did each company record the second highest gain and second highest loss for the day? (logarithmic loss). Hint: idxmax\n",
    "for firm in ls_firms:\n",
    "    gain = all_firms[all_firms['firm_name'] == firm]['log_return_close'].idxmax()\n",
    "    loss = all_firms[all_firms['firm_name'] == firm]['log_return_close'].idxmin()\n",
    "    gain_date = all_firms.loc[gain+1, 'Date']\n",
    "    loss_date = all_firms.loc[loss+1, 'Date']\n",
    "    print(f'{firm} had  second highest gain on {gain_date} and second highest loss on {loss_date}')\n"
   ],
   "id": "b12bedfac1cd9e85",
   "outputs": [
    {
     "name": "stdout",
     "output_type": "stream",
     "text": [
      "AAL had highest gain on 861    2020-06-05\n",
      "861    2020-06-05\n",
      "861    2020-06-05\n",
      "861    2020-06-05\n",
      "861    2020-06-05\n",
      "Name: Date, dtype: object and loss on 807    2020-03-19\n",
      "807    2020-03-19\n",
      "807    2020-03-19\n",
      "807    2020-03-19\n",
      "807    2020-03-19\n",
      "Name: Date, dtype: object\n",
      "GOOGL had highest gain on 645    2019-07-29\n",
      "645    2019-07-29\n",
      "645    2019-07-29\n",
      "645    2019-07-29\n",
      "645    2019-07-29\n",
      "Name: Date, dtype: object and loss on 805    2020-03-17\n",
      "805    2020-03-17\n",
      "805    2020-03-17\n",
      "805    2020-03-17\n",
      "805    2020-03-17\n",
      "Name: Date, dtype: object\n",
      "HCA had highest gain on 808    2020-03-20\n",
      "808    2020-03-20\n",
      "808    2020-03-20\n",
      "808    2020-03-20\n",
      "808    2020-03-20\n",
      "Name: Date, dtype: object and loss on 1336    2022-04-25\n",
      "1336    2022-04-25\n",
      "1336    2022-04-25\n",
      "1336    2022-04-25\n",
      "1336    2022-04-25\n",
      "Name: Date, dtype: object\n",
      "LUV had highest gain on 804    2020-03-16\n",
      "804    2020-03-16\n",
      "804    2020-03-16\n",
      "804    2020-03-16\n",
      "804    2020-03-16\n",
      "Name: Date, dtype: object and loss on 803    2020-03-13\n",
      "803    2020-03-13\n",
      "803    2020-03-13\n",
      "803    2020-03-13\n",
      "803    2020-03-13\n",
      "Name: Date, dtype: object\n",
      "MMM had highest gain on 811    2020-03-25\n",
      "811    2020-03-25\n",
      "811    2020-03-25\n",
      "811    2020-03-25\n",
      "811    2020-03-25\n",
      "Name: Date, dtype: object and loss on 581    2019-04-26\n",
      "581    2019-04-26\n",
      "581    2019-04-26\n",
      "581    2019-04-26\n",
      "581    2019-04-26\n",
      "Name: Date, dtype: object\n"
     ]
    }
   ],
   "execution_count": 64
  },
  {
   "metadata": {},
   "cell_type": "code",
   "outputs": [],
   "execution_count": null,
   "source": "#Question 5 - What is the median calendar weekly volume for each company? Hint: check howto resample pandas DF",
   "id": "64aab09c83ea6252"
  },
  {
   "metadata": {
    "ExecuteTime": {
     "end_time": "2025-03-31T17:28:44.044441Z",
     "start_time": "2025-03-31T17:28:43.979577Z"
    }
   },
   "cell_type": "code",
   "source": [
    "#Question 6 -Which company recorded the lowest total return over the whole period?\n",
    "for firm in ls_firms:\n",
    "    firm_data = all_firms[all_firms['firm_name'] == firm].sort_values('Date')\n",
    "    first_price = firm_data['Close'].iloc[0]\n",
    "    last_price = firm_data['Close'].iloc[-1]\n",
    "    total_return = (last_price / first_price) - 1\n",
    "    all_firms['total_return'] = total_return\n",
    "\n",
    "..."
   ],
   "id": "730f06c48c9bc122",
   "outputs": [],
   "execution_count": 71
  },
  {
   "metadata": {
    "ExecuteTime": {
     "end_time": "2025-03-31T17:41:55.868961Z",
     "start_time": "2025-03-31T17:41:54.706608Z"
    }
   },
   "cell_type": "code",
   "source": [
    "#Question 7 - Create a new column volume_class based on the volume column intocategories (e.g., \"Low\", \"Medium\", \"High\") and use tertile thresholds for the classes.\n",
    "#all_firms['volume_categories']= df.groupby('group').apply(lambda x : \\\n",
    "         # x[x.var2>=x.var2.tertile(0.66)]\n"
   ],
   "id": "2783c1c042a0571a",
   "outputs": [
    {
     "ename": "KeyError",
     "evalue": "'group'",
     "output_type": "error",
     "traceback": [
      "\u001B[31m---------------------------------------------------------------------------\u001B[39m",
      "\u001B[31mKeyError\u001B[39m                                  Traceback (most recent call last)",
      "\u001B[36mCell\u001B[39m\u001B[36m \u001B[39m\u001B[32mIn[95]\u001B[39m\u001B[32m, line 2\u001B[39m\n\u001B[32m      1\u001B[39m \u001B[38;5;66;03m#Question 7 - Create a new column volume_class based on the volume column intocategories (e.g., \"Low\", \"Medium\", \"High\") and use tertile thresholds for the classes.\u001B[39;00m\n\u001B[32m----> \u001B[39m\u001B[32m2\u001B[39m all_firms[\u001B[33m'\u001B[39m\u001B[33mvolume_categories\u001B[39m\u001B[33m'\u001B[39m]= \u001B[43mdf\u001B[49m\u001B[43m.\u001B[49m\u001B[43mgroupby\u001B[49m\u001B[43m(\u001B[49m\u001B[33;43m'\u001B[39;49m\u001B[33;43mgroup\u001B[39;49m\u001B[33;43m'\u001B[39;49m\u001B[43m)\u001B[49m.apply(\u001B[38;5;28;01mlambda\u001B[39;00m x : \\\n\u001B[32m      3\u001B[39m           x[x.var2>=x.var2.tertile(\u001B[32m0.66\u001B[39m)] \\\n\u001B[32m      4\u001B[39m           .var1.mean()).to_frame()\n",
      "\u001B[36mFile \u001B[39m\u001B[32m~/Desktop/MainDirectory/gitrepositories/DataP_EXAM/.venv/lib/python3.12/site-packages/pandas/core/frame.py:9183\u001B[39m, in \u001B[36mDataFrame.groupby\u001B[39m\u001B[34m(self, by, axis, level, as_index, sort, group_keys, observed, dropna)\u001B[39m\n\u001B[32m   9180\u001B[39m \u001B[38;5;28;01mif\u001B[39;00m level \u001B[38;5;129;01mis\u001B[39;00m \u001B[38;5;28;01mNone\u001B[39;00m \u001B[38;5;129;01mand\u001B[39;00m by \u001B[38;5;129;01mis\u001B[39;00m \u001B[38;5;28;01mNone\u001B[39;00m:\n\u001B[32m   9181\u001B[39m     \u001B[38;5;28;01mraise\u001B[39;00m \u001B[38;5;167;01mTypeError\u001B[39;00m(\u001B[33m\"\u001B[39m\u001B[33mYou have to supply one of \u001B[39m\u001B[33m'\u001B[39m\u001B[33mby\u001B[39m\u001B[33m'\u001B[39m\u001B[33m and \u001B[39m\u001B[33m'\u001B[39m\u001B[33mlevel\u001B[39m\u001B[33m'\u001B[39m\u001B[33m\"\u001B[39m)\n\u001B[32m-> \u001B[39m\u001B[32m9183\u001B[39m \u001B[38;5;28;01mreturn\u001B[39;00m \u001B[43mDataFrameGroupBy\u001B[49m\u001B[43m(\u001B[49m\n\u001B[32m   9184\u001B[39m \u001B[43m    \u001B[49m\u001B[43mobj\u001B[49m\u001B[43m=\u001B[49m\u001B[38;5;28;43mself\u001B[39;49m\u001B[43m,\u001B[49m\n\u001B[32m   9185\u001B[39m \u001B[43m    \u001B[49m\u001B[43mkeys\u001B[49m\u001B[43m=\u001B[49m\u001B[43mby\u001B[49m\u001B[43m,\u001B[49m\n\u001B[32m   9186\u001B[39m \u001B[43m    \u001B[49m\u001B[43maxis\u001B[49m\u001B[43m=\u001B[49m\u001B[43maxis\u001B[49m\u001B[43m,\u001B[49m\n\u001B[32m   9187\u001B[39m \u001B[43m    \u001B[49m\u001B[43mlevel\u001B[49m\u001B[43m=\u001B[49m\u001B[43mlevel\u001B[49m\u001B[43m,\u001B[49m\n\u001B[32m   9188\u001B[39m \u001B[43m    \u001B[49m\u001B[43mas_index\u001B[49m\u001B[43m=\u001B[49m\u001B[43mas_index\u001B[49m\u001B[43m,\u001B[49m\n\u001B[32m   9189\u001B[39m \u001B[43m    \u001B[49m\u001B[43msort\u001B[49m\u001B[43m=\u001B[49m\u001B[43msort\u001B[49m\u001B[43m,\u001B[49m\n\u001B[32m   9190\u001B[39m \u001B[43m    \u001B[49m\u001B[43mgroup_keys\u001B[49m\u001B[43m=\u001B[49m\u001B[43mgroup_keys\u001B[49m\u001B[43m,\u001B[49m\n\u001B[32m   9191\u001B[39m \u001B[43m    \u001B[49m\u001B[43mobserved\u001B[49m\u001B[43m=\u001B[49m\u001B[43mobserved\u001B[49m\u001B[43m,\u001B[49m\n\u001B[32m   9192\u001B[39m \u001B[43m    \u001B[49m\u001B[43mdropna\u001B[49m\u001B[43m=\u001B[49m\u001B[43mdropna\u001B[49m\u001B[43m,\u001B[49m\n\u001B[32m   9193\u001B[39m \u001B[43m\u001B[49m\u001B[43m)\u001B[49m\n",
      "\u001B[36mFile \u001B[39m\u001B[32m~/Desktop/MainDirectory/gitrepositories/DataP_EXAM/.venv/lib/python3.12/site-packages/pandas/core/groupby/groupby.py:1329\u001B[39m, in \u001B[36mGroupBy.__init__\u001B[39m\u001B[34m(self, obj, keys, axis, level, grouper, exclusions, selection, as_index, sort, group_keys, observed, dropna)\u001B[39m\n\u001B[32m   1326\u001B[39m \u001B[38;5;28mself\u001B[39m.dropna = dropna\n\u001B[32m   1328\u001B[39m \u001B[38;5;28;01mif\u001B[39;00m grouper \u001B[38;5;129;01mis\u001B[39;00m \u001B[38;5;28;01mNone\u001B[39;00m:\n\u001B[32m-> \u001B[39m\u001B[32m1329\u001B[39m     grouper, exclusions, obj = \u001B[43mget_grouper\u001B[49m\u001B[43m(\u001B[49m\n\u001B[32m   1330\u001B[39m \u001B[43m        \u001B[49m\u001B[43mobj\u001B[49m\u001B[43m,\u001B[49m\n\u001B[32m   1331\u001B[39m \u001B[43m        \u001B[49m\u001B[43mkeys\u001B[49m\u001B[43m,\u001B[49m\n\u001B[32m   1332\u001B[39m \u001B[43m        \u001B[49m\u001B[43maxis\u001B[49m\u001B[43m=\u001B[49m\u001B[43maxis\u001B[49m\u001B[43m,\u001B[49m\n\u001B[32m   1333\u001B[39m \u001B[43m        \u001B[49m\u001B[43mlevel\u001B[49m\u001B[43m=\u001B[49m\u001B[43mlevel\u001B[49m\u001B[43m,\u001B[49m\n\u001B[32m   1334\u001B[39m \u001B[43m        \u001B[49m\u001B[43msort\u001B[49m\u001B[43m=\u001B[49m\u001B[43msort\u001B[49m\u001B[43m,\u001B[49m\n\u001B[32m   1335\u001B[39m \u001B[43m        \u001B[49m\u001B[43mobserved\u001B[49m\u001B[43m=\u001B[49m\u001B[38;5;28;43;01mFalse\u001B[39;49;00m\u001B[43m \u001B[49m\u001B[38;5;28;43;01mif\u001B[39;49;00m\u001B[43m \u001B[49m\u001B[43mobserved\u001B[49m\u001B[43m \u001B[49m\u001B[38;5;129;43;01mis\u001B[39;49;00m\u001B[43m \u001B[49m\u001B[43mlib\u001B[49m\u001B[43m.\u001B[49m\u001B[43mno_default\u001B[49m\u001B[43m \u001B[49m\u001B[38;5;28;43;01melse\u001B[39;49;00m\u001B[43m \u001B[49m\u001B[43mobserved\u001B[49m\u001B[43m,\u001B[49m\n\u001B[32m   1336\u001B[39m \u001B[43m        \u001B[49m\u001B[43mdropna\u001B[49m\u001B[43m=\u001B[49m\u001B[38;5;28;43mself\u001B[39;49m\u001B[43m.\u001B[49m\u001B[43mdropna\u001B[49m\u001B[43m,\u001B[49m\n\u001B[32m   1337\u001B[39m \u001B[43m    \u001B[49m\u001B[43m)\u001B[49m\n\u001B[32m   1339\u001B[39m \u001B[38;5;28;01mif\u001B[39;00m observed \u001B[38;5;129;01mis\u001B[39;00m lib.no_default:\n\u001B[32m   1340\u001B[39m     \u001B[38;5;28;01mif\u001B[39;00m \u001B[38;5;28many\u001B[39m(ping._passed_categorical \u001B[38;5;28;01mfor\u001B[39;00m ping \u001B[38;5;129;01min\u001B[39;00m grouper.groupings):\n",
      "\u001B[36mFile \u001B[39m\u001B[32m~/Desktop/MainDirectory/gitrepositories/DataP_EXAM/.venv/lib/python3.12/site-packages/pandas/core/groupby/grouper.py:1043\u001B[39m, in \u001B[36mget_grouper\u001B[39m\u001B[34m(obj, key, axis, level, sort, observed, validate, dropna)\u001B[39m\n\u001B[32m   1041\u001B[39m         in_axis, level, gpr = \u001B[38;5;28;01mFalse\u001B[39;00m, gpr, \u001B[38;5;28;01mNone\u001B[39;00m\n\u001B[32m   1042\u001B[39m     \u001B[38;5;28;01melse\u001B[39;00m:\n\u001B[32m-> \u001B[39m\u001B[32m1043\u001B[39m         \u001B[38;5;28;01mraise\u001B[39;00m \u001B[38;5;167;01mKeyError\u001B[39;00m(gpr)\n\u001B[32m   1044\u001B[39m \u001B[38;5;28;01melif\u001B[39;00m \u001B[38;5;28misinstance\u001B[39m(gpr, Grouper) \u001B[38;5;129;01mand\u001B[39;00m gpr.key \u001B[38;5;129;01mis\u001B[39;00m \u001B[38;5;129;01mnot\u001B[39;00m \u001B[38;5;28;01mNone\u001B[39;00m:\n\u001B[32m   1045\u001B[39m     \u001B[38;5;66;03m# Add key to exclusions\u001B[39;00m\n\u001B[32m   1046\u001B[39m     exclusions.add(gpr.key)\n",
      "\u001B[31mKeyError\u001B[39m: 'group'"
     ]
    }
   ],
   "execution_count": 95
  },
  {
   "metadata": {},
   "cell_type": "code",
   "outputs": [],
   "execution_count": null,
   "source": "#all_firms['volume_categories']",
   "id": "a6a772ff5dc9dca7"
  },
  {
   "metadata": {
    "ExecuteTime": {
     "end_time": "2025-03-31T17:14:54.952982Z",
     "start_time": "2025-03-31T17:14:51.395666Z"
    }
   },
   "cell_type": "code",
   "source": [
    "#Question 8\n",
    "\n",
    "plt.subplots(1,1, figsize = (15,5))\n",
    "for firm in ls_firms:\n",
    "    firm_data = all_firms[all_firms['firm_name'] == firm]\n",
    "    plt.plot(firm_data[\"Date\"], firm_data[\"log_return_close\"], label=firm)\n",
    "plt.legend()\n",
    "plt.title('Log Returns by Firm')\n",
    "plt.ylabel('Log Return')\n",
    "plt.xlabel('Date')\n",
    "\n"
   ],
   "id": "61a98d467ebbe8c7",
   "outputs": [
    {
     "data": {
      "text/plain": [
       "Text(0.5, 0, 'Date')"
      ]
     },
     "execution_count": 53,
     "metadata": {},
     "output_type": "execute_result"
    },
    {
     "data": {
      "text/plain": [
       "<Figure size 1500x500 with 1 Axes>"
      ],
      "image/png": "[encoded data removed]"
     },
     "metadata": {},
     "output_type": "display_data"
    }
   ],
   "execution_count": 53
  },
  {
   "metadata": {},
   "cell_type": "markdown",
   "source": "# Part 2",
   "id": "cdad0ce9914fb83a"
  },
  {
   "metadata": {
    "ExecuteTime": {
     "end_time": "2025-03-31T17:43:48.141659Z",
     "start_time": "2025-03-31T17:43:47.981310Z"
    }
   },
   "cell_type": "code",
   "source": [
    "#\n",
    "\n",
    "url = \"https://ies-fsv.s3.eu-central-1.amazonaws.com/companies/companies_no_subindustry.csv\"\n",
    "data = pd.read_csv(url)"
   ],
   "id": "e449a4a145062817",
   "outputs": [],
   "execution_count": 98
  },
  {
   "metadata": {
    "ExecuteTime": {
     "end_time": "2025-03-31T17:43:48.333047Z",
     "start_time": "2025-03-31T17:43:48.328439Z"
    }
   },
   "cell_type": "code",
   "source": [
    "#Question 1\n",
    "data['included'].isna().count()\n",
    "\n"
   ],
   "id": "44e51e1426c7c864",
   "outputs": [
    {
     "data": {
      "text/plain": [
       "np.int64(503)"
      ]
     },
     "execution_count": 99,
     "metadata": {},
     "output_type": "execute_result"
    }
   ],
   "execution_count": 99
  },
  {
   "metadata": {
    "ExecuteTime": {
     "end_time": "2025-03-31T17:44:00.805439Z",
     "start_time": "2025-03-31T17:44:00.755233Z"
    }
   },
   "cell_type": "code",
   "source": "data.head(5)",
   "id": "4ee2c228eb00a1d7",
   "outputs": [
    {
     "data": {
      "text/plain": [
       "  Symbol     Security  GICS_Sector                       hq    included  \\\n",
       "0    MMM           3M  Industrials    Saint Paul, Minnesota  09.08.1976   \n",
       "1    AOS  A. O. Smith  Industrials     Milwaukee, Wisconsin  26.07.2017   \n",
       "2    ABT       Abbott  Health Care  North Chicago, Illinois  31.03.1964   \n",
       "3   ABBV       AbbVie  Health Care  North Chicago, Illinois  31.12.2012   \n",
       "4   ABMD      Abiomed  Health Care   Danvers, Massachusetts  31.05.2018   \n",
       "\n",
       "       Founded  \n",
       "0         1902  \n",
       "1         1916  \n",
       "2         1888  \n",
       "3  2013 (1888)  \n",
       "4         1981  "
      ],
      "text/html": [
       "<div>\n",
       "<style scoped>\n",
       "    .dataframe tbody tr th:only-of-type {\n",
       "        vertical-align: middle;\n",
       "    }\n",
       "\n",
       "    .dataframe tbody tr th {\n",
       "        vertical-align: top;\n",
       "    }\n",
       "\n",
       "    .dataframe thead th {\n",
       "        text-align: right;\n",
       "    }\n",
       "</style>\n",
       "<table border=\"1\" class=\"dataframe\">\n",
       "  <thead>\n",
       "    <tr style=\"text-align: right;\">\n",
       "      <th></th>\n",
       "      <th>Symbol</th>\n",
       "      <th>Security</th>\n",
       "      <th>GICS_Sector</th>\n",
       "      <th>hq</th>\n",
       "      <th>included</th>\n",
       "      <th>Founded</th>\n",
       "    </tr>\n",
       "  </thead>\n",
       "  <tbody>\n",
       "    <tr>\n",
       "      <th>0</th>\n",
       "      <td>MMM</td>\n",
       "      <td>3M</td>\n",
       "      <td>Industrials</td>\n",
       "      <td>Saint Paul, Minnesota</td>\n",
       "      <td>09.08.1976</td>\n",
       "      <td>1902</td>\n",
       "    </tr>\n",
       "    <tr>\n",
       "      <th>1</th>\n",
       "      <td>AOS</td>\n",
       "      <td>A. O. Smith</td>\n",
       "      <td>Industrials</td>\n",
       "      <td>Milwaukee, Wisconsin</td>\n",
       "      <td>26.07.2017</td>\n",
       "      <td>1916</td>\n",
       "    </tr>\n",
       "    <tr>\n",
       "      <th>2</th>\n",
       "      <td>ABT</td>\n",
       "      <td>Abbott</td>\n",
       "      <td>Health Care</td>\n",
       "      <td>North Chicago, Illinois</td>\n",
       "      <td>31.03.1964</td>\n",
       "      <td>1888</td>\n",
       "    </tr>\n",
       "    <tr>\n",
       "      <th>3</th>\n",
       "      <td>ABBV</td>\n",
       "      <td>AbbVie</td>\n",
       "      <td>Health Care</td>\n",
       "      <td>North Chicago, Illinois</td>\n",
       "      <td>31.12.2012</td>\n",
       "      <td>2013 (1888)</td>\n",
       "    </tr>\n",
       "    <tr>\n",
       "      <th>4</th>\n",
       "      <td>ABMD</td>\n",
       "      <td>Abiomed</td>\n",
       "      <td>Health Care</td>\n",
       "      <td>Danvers, Massachusetts</td>\n",
       "      <td>31.05.2018</td>\n",
       "      <td>1981</td>\n",
       "    </tr>\n",
       "  </tbody>\n",
       "</table>\n",
       "</div>"
      ]
     },
     "execution_count": 100,
     "metadata": {},
     "output_type": "execute_result"
    }
   ],
   "execution_count": 100
  },
  {
   "metadata": {
    "ExecuteTime": {
     "end_time": "2025-03-31T17:44:01.821905Z",
     "start_time": "2025-03-31T17:44:01.784566Z"
    }
   },
   "cell_type": "code",
   "source": [
    "#Question 2\n",
    "\n",
    "data.dropna(subset=['included'], inplace=True)\n",
    "\n",
    "data.sort_values(by=['Founded'], ascending=True,inplace=True)\n",
    "print(data.head(1))\n",
    "data.sort_values(by=['Founded'], ascending=False,inplace=True)\n",
    "print(data.head(1))\n",
    "\n",
    "#Probably not the smartest way to do this :)"
   ],
   "id": "9e6ce2b0c78c7855",
   "outputs": [
    {
     "name": "stdout",
     "output_type": "stream",
     "text": [
      "   Symbol    Security GICS_Sector                       hq    included Founded\n",
      "71     BK  BNY Mellon  Financials  New York City, New York  31.03.1995    1784\n",
      "    Symbol                Security             GICS_Sector  \\\n",
      "481    WBD  Warner Bros. Discovery  Communication Services   \n",
      "\n",
      "                          hq    included Founded  \n",
      "481  New York City, New York  11.04.2022    2022  \n"
     ]
    }
   ],
   "execution_count": 101
  },
  {
   "metadata": {
    "ExecuteTime": {
     "end_time": "2025-03-31T17:44:04.016922Z",
     "start_time": "2025-03-31T17:44:03.841686Z"
    }
   },
   "cell_type": "code",
   "source": [
    "#Question 5\n",
    "\n",
    "data2 = pd.read_csv('https://ies-fsv.s3.eu-central-1.amazonaws.com/companies/companies_subindustry.csv')\n",
    "\n",
    "data2.head()\n",
    "\n",
    "merged = pd.merge(data, data2, on='Symbol')\n",
    "\n",
    "merged.info()"
   ],
   "id": "a450f24d19331866",
   "outputs": [
    {
     "name": "stdout",
     "output_type": "stream",
     "text": [
      "<class 'pandas.core.frame.DataFrame'>\n",
      "RangeIndex: 458 entries, 0 to 457\n",
      "Data columns (total 7 columns):\n",
      " #   Column       Non-Null Count  Dtype \n",
      "---  ------       --------------  ----- \n",
      " 0   Symbol       458 non-null    object\n",
      " 1   Security     458 non-null    object\n",
      " 2   GICS_Sector  458 non-null    object\n",
      " 3   hq           458 non-null    object\n",
      " 4   included     458 non-null    object\n",
      " 5   Founded      458 non-null    object\n",
      " 6   subindustry  458 non-null    object\n",
      "dtypes: object(7)\n",
      "memory usage: 25.2+ KB\n"
     ]
    }
   ],
   "execution_count": 102
  },
  {
   "metadata": {},
   "cell_type": "markdown",
   "source": [
    "# Part 3\n",
    "\n"
   ],
   "id": "d88bbae7009e0fe6"
  },
  {
   "metadata": {},
   "cell_type": "code",
   "outputs": [],
   "execution_count": null,
   "source": "#) Generate four random variables from four different distributions(e.g. Normal, Uniform, etc.) each containing random number of observationsbetween 100 and 500\n",
   "id": "278ee94430187654"
  },
  {
   "metadata": {},
   "cell_type": "code",
   "outputs": [],
   "execution_count": null,
   "source": "#Draw a figure with a matrix of plots where you show somethingabout the random variables (e.g. pdf, cdf, histogram, boxplot, etc.).",
   "id": "ca2f6e5ac57f9d67"
  }
 ],
 "metadata": {
  "kernelspec": {
   "name": "python3",
   "language": "python",
   "display_name": "Python 3 (ipykernel)"
  }
 },
 "nbformat": 5,
 "nbformat_minor": 9
}
